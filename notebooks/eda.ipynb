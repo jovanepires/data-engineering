{
 "cells": [
  {
   "cell_type": "code",
   "execution_count": 18,
   "id": "played-north",
   "metadata": {},
   "outputs": [],
   "source": [
    "import json\n",
    "import pandas as pd\n",
    "import pyspark as ps\n",
    "\n",
    "from pyspark.sql.functions import col, count, countDistinct, collect_set"
   ]
  },
  {
   "cell_type": "code",
   "execution_count": 7,
   "id": "million-cooper",
   "metadata": {},
   "outputs": [
    {
     "data": {
      "text/plain": [
       "{'at': '2017-11-16 02:10:20',\n",
       " 'browser': 'Chrome 62',\n",
       " 'carrier': 'Telemar Norte Leste S.a.',\n",
       " 'country': 'br',\n",
       " 'custom_1': 'ESTÁCIO EAD',\n",
       " 'custom_2': 'Pedagogia',\n",
       " 'custom_4': 'Core User',\n",
       " 'device_new': False,\n",
       " 'install_uuid': 'fdfff303505f8a18b17ee40587e785f6bb9c8374',\n",
       " 'language': 'pt',\n",
       " 'library_ver': 'web_3.3.3',\n",
       " 'model': 'Linux armv7l',\n",
       " 'name': 'Page View',\n",
       " 'nth': 17,\n",
       " 'os_ver': '',\n",
       " 'platform': 'Linux',\n",
       " 'session_uuid': '188031bec37fc43b737c2c49349076700ae89128',\n",
       " 'type': 'e',\n",
       " 'user_type': 'known',\n",
       " 'uuid': '1b3ed1360694ceae79f6361ed11b03cf245311c8',\n",
       " 'studentId_clientType': '34cbeaf4a28c798de94cd9afb43d4e2e49ce80d6b52364e097371db586d4ea48@Website',\n",
       " 'Page Name': '/perfil/22482764/materiais',\n",
       " 'Page Category': 'perfil',\n",
       " 'Page Category 1': 'perfil',\n",
       " 'Page Category 2': 'Undefined',\n",
       " 'Page Category 3': 'Undefined',\n",
       " 'Last Accessed Url': '/'}"
      ]
     },
     "execution_count": 7,
     "metadata": {},
     "output_type": "execute_result"
    }
   ],
   "source": [
    "# load sample\n",
    "file = open(\"../data/files/part-00000.json\")\n",
    "item = json.loads(file.readline())\n",
    "item"
   ]
  },
  {
   "cell_type": "code",
   "execution_count": 3,
   "id": "progressive-nelson",
   "metadata": {},
   "outputs": [
    {
     "name": "stdout",
     "output_type": "stream",
     "text": [
      "3.0.1\n"
     ]
    }
   ],
   "source": [
    "spark = (ps.sql.SparkSession\n",
    "            .builder\n",
    "            .appName(\"sandbox\")\n",
    "            .config('spark.driver.extraClassPath', '/home/jovyan/work/notebooks/sqlite-jdbc-3.32.3.2.jar')\n",
    "            .getOrCreate()\n",
    "        )\n",
    "\n",
    "print(spark.version)"
   ]
  },
  {
   "cell_type": "code",
   "execution_count": 5,
   "id": "verified-algebra",
   "metadata": {},
   "outputs": [],
   "source": [
    "properties = {\n",
    "    'driver': 'org.sqlite.JDBC',\n",
    "    'url': 'jdbc:sqlite:data_warehouse.db',\n",
    "}\n",
    "\n",
    "df1 = spark.read\\\n",
    "    .format('jdbc')\\\n",
    "    .option('driver', properties['driver']) \\\n",
    "    .option('url', properties['url']) \\\n",
    "    .option('dbtable', 'dim_course') \\\n",
    "    .load()"
   ]
  },
  {
   "cell_type": "code",
   "execution_count": 6,
   "id": "female-smith",
   "metadata": {},
   "outputs": [
    {
     "data": {
      "text/plain": [
       "Row(course_id=1199453, name='Administração')"
      ]
     },
     "execution_count": 6,
     "metadata": {},
     "output_type": "execute_result"
    }
   ],
   "source": [
    "df1.head()"
   ]
  },
  {
   "cell_type": "code",
   "execution_count": 37,
   "id": "animal-essay",
   "metadata": {},
   "outputs": [
    {
     "name": "stdout",
     "output_type": "stream",
     "text": [
      "root\n",
      " |-- id: integer (nullable = true)\n",
      " |-- student_id: string (nullable = true)\n",
      " |-- time_id: integer (nullable = true)\n",
      " |-- address_id: integer (nullable = true)\n",
      " |-- university_id: integer (nullable = true)\n",
      " |-- course_id: integer (nullable = true)\n",
      "\n"
     ]
    }
   ],
   "source": [
    "df_fact_logged_student = spark.read\\\n",
    "    .format('jdbc')\\\n",
    "    .option('driver', properties['driver']) \\\n",
    "    .option('url', properties['url']) \\\n",
    "    .option('dbtable', 'fact_logged_student') \\\n",
    "    .load()\n",
    "df_fact_logged_student.printSchema()"
   ]
  },
  {
   "cell_type": "code",
   "execution_count": 36,
   "id": "presidential-proceeding",
   "metadata": {},
   "outputs": [
    {
     "name": "stdout",
     "output_type": "stream",
     "text": [
      "root\n",
      " |-- course_id: integer (nullable = true)\n",
      " |-- name: string (nullable = true)\n",
      "\n"
     ]
    }
   ],
   "source": [
    "df_dim_course = spark.read\\\n",
    "    .format('jdbc')\\\n",
    "    .option('driver', properties['driver']) \\\n",
    "    .option('url', properties['url']) \\\n",
    "    .option('dbtable', 'dim_course') \\\n",
    "    .load()\n",
    "df_dim_course.printSchema()"
   ]
  },
  {
   "cell_type": "code",
   "execution_count": 10,
   "id": "julian-waterproof",
   "metadata": {},
   "outputs": [],
   "source": [
    "# reading all events files\n",
    "df2 = spark.read.json(\"../data/part-*.json\")"
   ]
  },
  {
   "cell_type": "code",
   "execution_count": 11,
   "id": "continuing-delhi",
   "metadata": {},
   "outputs": [
    {
     "data": {
      "text/plain": [
       "Row(Last Accessed Url='/', Page Category='perfil', Page Category 1='perfil', Page Category 2='Undefined', Page Category 3='Undefined', Page Name='/perfil/22482764/materiais', at='2017-11-16 02:10:20', browser='Chrome 62', carrier='Telemar Norte Leste S.a.', city_name=None, clv_total=None, country='br', custom_1='ESTÁCIO EAD', custom_2='Pedagogia', custom_3=None, custom_4='Core User', device_new=False, first-accessed-page=None, install_uuid='fdfff303505f8a18b17ee40587e785f6bb9c8374', language='pt', library_ver='web_3.3.3', marketing_campaign=None, marketing_medium=None, marketing_source=None, model='Linux armv7l', name='Page View', nth=17, os_ver='', platform='Linux', region=None, session_uuid='188031bec37fc43b737c2c49349076700ae89128', studentId_clientType='34cbeaf4a28c798de94cd9afb43d4e2e49ce80d6b52364e097371db586d4ea48@Website', type='e', user_type='known', uuid='1b3ed1360694ceae79f6361ed11b03cf245311c8')"
      ]
     },
     "execution_count": 11,
     "metadata": {},
     "output_type": "execute_result"
    }
   ],
   "source": [
    "df2.head()"
   ]
  },
  {
   "cell_type": "code",
   "execution_count": 28,
   "id": "domestic-daughter",
   "metadata": {},
   "outputs": [
    {
     "name": "stdout",
     "output_type": "stream",
     "text": [
      "root\n",
      " |-- Last Accessed Url: string (nullable = true)\n",
      " |-- Page Category: string (nullable = true)\n",
      " |-- Page Category 1: string (nullable = true)\n",
      " |-- Page Category 2: string (nullable = true)\n",
      " |-- Page Category 3: string (nullable = true)\n",
      " |-- Page Name: string (nullable = true)\n",
      " |-- at: string (nullable = true)\n",
      " |-- browser: string (nullable = true)\n",
      " |-- carrier: string (nullable = true)\n",
      " |-- city_name: string (nullable = true)\n",
      " |-- clv_total: long (nullable = true)\n",
      " |-- country: string (nullable = true)\n",
      " |-- custom_1: string (nullable = true)\n",
      " |-- custom_2: string (nullable = true)\n",
      " |-- custom_3: string (nullable = true)\n",
      " |-- custom_4: string (nullable = true)\n",
      " |-- device_new: boolean (nullable = true)\n",
      " |-- first-accessed-page: string (nullable = true)\n",
      " |-- install_uuid: string (nullable = true)\n",
      " |-- language: string (nullable = true)\n",
      " |-- library_ver: string (nullable = true)\n",
      " |-- marketing_campaign: string (nullable = true)\n",
      " |-- marketing_medium: string (nullable = true)\n",
      " |-- marketing_source: string (nullable = true)\n",
      " |-- model: string (nullable = true)\n",
      " |-- name: string (nullable = true)\n",
      " |-- nth: long (nullable = true)\n",
      " |-- os_ver: string (nullable = true)\n",
      " |-- platform: string (nullable = true)\n",
      " |-- region: string (nullable = true)\n",
      " |-- session_uuid: string (nullable = true)\n",
      " |-- studentId_clientType: string (nullable = true)\n",
      " |-- type: string (nullable = true)\n",
      " |-- user_type: string (nullable = true)\n",
      " |-- uuid: string (nullable = true)\n",
      "\n"
     ]
    }
   ],
   "source": [
    "df2.printSchema()"
   ]
  },
  {
   "cell_type": "code",
   "execution_count": 21,
   "id": "under-daniel",
   "metadata": {},
   "outputs": [
    {
     "name": "stdout",
     "output_type": "stream",
     "text": [
      "+-----------------------------------------------------------+\n",
      "|collect_set(custom_4)                                      |\n",
      "+-----------------------------------------------------------+\n",
      "|[Core User, unknown, Casual User, Cold User, New User, yes]|\n",
      "+-----------------------------------------------------------+\n",
      "\n"
     ]
    }
   ],
   "source": [
    "df3 = df2.select(collect_set(\"custom_4\"))\n",
    "df3.show(truncate=False)"
   ]
  },
  {
   "cell_type": "code",
   "execution_count": 26,
   "id": "decimal-bridge",
   "metadata": {},
   "outputs": [
    {
     "name": "stdout",
     "output_type": "stream",
     "text": [
      "+-------------------------------------+------+\n",
      "|custom_2                             |count |\n",
      "+-------------------------------------+------+\n",
      "|null                                 |100653|\n",
      "|Direito                              |96020 |\n",
      "|Administração                        |53755 |\n",
      "|unknown                              |43128 |\n",
      "|Engenharia Civil                     |33256 |\n",
      "|Pedagogia                            |32081 |\n",
      "|Contabilidade / Ciências Contábeis   |30788 |\n",
      "|Fisioterapia                         |19321 |\n",
      "|Psicologia                           |17719 |\n",
      "|Nutrição                             |16534 |\n",
      "|Enfermagem e Obstetrícia             |14978 |\n",
      "|Engenharia de Produção               |14371 |\n",
      "|Educação Física                      |10913 |\n",
      "|Gestão de Recursos Humanos           |10249 |\n",
      "|Análise e Desenvolvimento de Sistemas|10028 |\n",
      "|Engenharia Elétrica                  |9603  |\n",
      "|Engenharia Mecânica                  |9246  |\n",
      "|Farmácia / Ciências Farmacêuticas    |8282  |\n",
      "|Sistemas de Informação / Informática |7169  |\n",
      "|Serviço Social                       |6229  |\n",
      "+-------------------------------------+------+\n",
      "only showing top 20 rows\n",
      "\n"
     ]
    }
   ],
   "source": [
    "df2.groupBy(\"custom_2\").count().orderBy(col(\"count\").desc()).show(truncate=False)"
   ]
  },
  {
   "cell_type": "code",
   "execution_count": 35,
   "id": "sophisticated-watershed",
   "metadata": {},
   "outputs": [
    {
     "name": "stdout",
     "output_type": "stream",
     "text": [
      "root\n",
      " |-- course_id: integer (nullable = true)\n",
      " |-- name: string (nullable = true)\n",
      "\n"
     ]
    }
   ],
   "source": [
    "df_dim_course.printSchema()"
   ]
  },
  {
   "cell_type": "code",
   "execution_count": 38,
   "id": "packed-affiliation",
   "metadata": {},
   "outputs": [
    {
     "name": "stdout",
     "output_type": "stream",
     "text": [
      "+---------+-------+\n",
      "|course_id|   name|\n",
      "+---------+-------+\n",
      "|  1199517|Direito|\n",
      "+---------+-------+\n",
      "\n"
     ]
    }
   ],
   "source": [
    "df_dim_course[df_dim_course['name']=='Direito'].show()"
   ]
  },
  {
   "cell_type": "code",
   "execution_count": 40,
   "id": "modular-metallic",
   "metadata": {},
   "outputs": [
    {
     "name": "stdout",
     "output_type": "stream",
     "text": [
      "+---------+-----+\n",
      "|course_id|count|\n",
      "+---------+-----+\n",
      "+---------+-----+\n",
      "\n"
     ]
    }
   ],
   "source": [
    "df_count_by_course = df_fact_logged_student.groupBy('course_id').count().show()"
   ]
  },
  {
   "cell_type": "code",
   "execution_count": null,
   "id": "correct-fancy",
   "metadata": {},
   "outputs": [],
   "source": []
  }
 ],
 "metadata": {
  "kernelspec": {
   "display_name": "Python 3",
   "language": "python",
   "name": "python3"
  },
  "language_info": {
   "codemirror_mode": {
    "name": "ipython",
    "version": 3
   },
   "file_extension": ".py",
   "mimetype": "text/x-python",
   "name": "python",
   "nbconvert_exporter": "python",
   "pygments_lexer": "ipython3",
   "version": "3.8.6"
  }
 },
 "nbformat": 4,
 "nbformat_minor": 5
}
